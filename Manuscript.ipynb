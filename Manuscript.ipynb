{
  "cells": [
    {
      "metadata": {
        "trusted": true
      },
      "cell_type": "code",
      "source": "import matplotlib.pyplot as plt\nimport numpy as np",
      "execution_count": null,
      "outputs": []
    },
    {
      "metadata": {
        "trusted": true
      },
      "cell_type": "code",
      "source": "angles = [np.radians(60*x) for x in range(6)]\nsin_vals = [np.sin(x) for x in angles]\ncos_vals = [np.cos(x) for x in angles]\n\ndef P(angle, coords, jump):\n    return (angle + 1) % 6\ndef M(angle, coords, jump):\n    return (angle + 4) % 6\ndef F(angle, coords, jump):\n    coords.append(\n        (coords[-1][0] + jump * cos_vals[angle],\n         coords[-1][1] + jump * sin_vals[angle]))\n    return angle\n\ndecode = dict(P=P, M=M, F=F)\n\ndef propagate(steps, length, startPos=(0,0)):\n    pathcodes=\"F\"\n    for i in range(steps):\n        pathcodes = pathcodes.replace(\"F\", \"FPFMFPF\")\n\n    jump = float(length) / (3 ** steps)\n    coords = [startPos]\n    angle = 0\n\n    for move in pathcodes:\n        angle = decode[move](angle, coords, jump)\n        \n    xlist, ylist = zip(*coords)\n\n    \n    \n    radians = np.radians(-60)    \n    x, y = zip(*coords)\n    #x = [ -i for i in x]\n    #y = [ -i for i in y]\n    \n    \n    x_1 = [i * np.cos(radians) for i in x]\n    y_1 = [i * np.sin(radians) for i in y]\n    \n    x_2 = [i * np.sin(radians) for i in x]\n    y_2 = [i * np.cos(radians) for i in y]\n    \n    xx = [x + y for x, y in zip(x_1, y_1)]\n    yy = [x - y for x, y in zip(x_2, y_2)]\n    \n    \n    jj = [-x + 50 for x in xx]\n    kk = yy\n    \n\n    plt.plot(xlist, ylist,'k-')    \n    plt.plot(xx, yy,'k-')\n    plt.plot(jj, kk,'k-')\n    \n    \n\n    \n    plt.gca().set_aspect('equal', adjustable='box')\n    plt.figure(figsize=(30,30))\n    plt.show()\n    ",
      "execution_count": null,
      "outputs": []
    },
    {
      "metadata": {
        "trusted": true
      },
      "cell_type": "code",
      "source": "propagate(0, 50)",
      "execution_count": null,
      "outputs": []
    },
    {
      "metadata": {
        "trusted": true
      },
      "cell_type": "code",
      "source": "",
      "execution_count": null,
      "outputs": []
    }
  ],
  "metadata": {
    "kernelspec": {
      "name": "python36",
      "display_name": "Python 3.6",
      "language": "python"
    },
    "language_info": {
      "mimetype": "text/x-python",
      "nbconvert_exporter": "python",
      "name": "python",
      "pygments_lexer": "ipython3",
      "version": "3.6.6",
      "file_extension": ".py",
      "codemirror_mode": {
        "version": 3,
        "name": "ipython"
      }
    }
  },
  "nbformat": 4,
  "nbformat_minor": 2
}